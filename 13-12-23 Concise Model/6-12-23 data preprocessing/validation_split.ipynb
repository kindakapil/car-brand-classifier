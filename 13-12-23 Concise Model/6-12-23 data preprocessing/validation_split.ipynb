{
 "cells": [
  {
   "cell_type": "code",
   "execution_count": 19,
   "metadata": {},
   "outputs": [],
   "source": [
    "from os import listdir\n",
    "import random\n",
    "import shutil\n",
    "\n",
    "move_number = 400"
   ]
  },
  {
   "cell_type": "code",
   "execution_count": 25,
   "metadata": {},
   "outputs": [],
   "source": [
    "##For moving all brand's images\n",
    "# all_brands = listdir('augmented images')\n",
    "# all_brands\n",
    "\n",
    "\n",
    "##For moving images from only specific brands\n",
    "pending_brands = ['Ford']\n",
    "all_brands = pending_brands"
   ]
  },
  {
   "cell_type": "code",
   "execution_count": 26,
   "metadata": {},
   "outputs": [],
   "source": [
    "for brand in all_brands:\n",
    "    for i in range(move_number):\n",
    "        list_car_srno = listdir(f'augmented images/{brand}')\n",
    "        current_car_srno = random.choice(list_car_srno)\n",
    "        shutil.move(f\"augmented images/{brand}/{current_car_srno}\", f\"test/{brand}/{current_car_srno}\")"
   ]
  },
  {
   "cell_type": "code",
   "execution_count": 24,
   "metadata": {},
   "outputs": [],
   "source": [
    "# ###Roughwork\n",
    "\n",
    "\n",
    "\n",
    "\n",
    "# from os import listdir\n",
    "# import random\n",
    "# import shutil\n",
    "\n",
    "# move_number = 400\n",
    "# ##Custom Move\n",
    "# pending_brands = ['Ford']\n",
    "# all_brands = pending_brands\n",
    "\n",
    "# for brand in all_brands:\n",
    "#     for i in range(move_number):\n",
    "#         list_car_srno = listdir(f'test/{brand}')\n",
    "#         current_car_srno = random.choice(list_car_srno)\n",
    "#         shutil.move(f\"test/{brand}/{current_car_srno}\", f\"augmented images/{brand}/{current_car_srno}\")\n",
    "\n"
   ]
  },
  {
   "cell_type": "code",
   "execution_count": null,
   "metadata": {},
   "outputs": [],
   "source": []
  }
 ],
 "metadata": {
  "kernelspec": {
   "display_name": "eauto",
   "language": "python",
   "name": "python3"
  },
  "language_info": {
   "codemirror_mode": {
    "name": "ipython",
    "version": 3
   },
   "file_extension": ".py",
   "mimetype": "text/x-python",
   "name": "python",
   "nbconvert_exporter": "python",
   "pygments_lexer": "ipython3",
   "version": "3.11.5"
  }
 },
 "nbformat": 4,
 "nbformat_minor": 2
}
